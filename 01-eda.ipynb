{
 "cells": [
  {
   "cell_type": "code",
   "execution_count": 1,
   "metadata": {},
   "outputs": [],
   "source": [
    "import pandas as pd\n",
    "import json\n",
    "\n",
    "train = pd.read_csv('data/train.csv')\n",
    "\n",
    "constant_columns = train.columns[train.nunique() == 1]\n",
    "train = train.drop(columns=constant_columns, axis=1)\n",
    "\n",
    "keep_columns = []\n",
    "duplicate_columns = []\n",
    "for i in range(len(train.columns)):\n",
    "    original_column = train.columns[i]\n",
    "    for j in range(i+1, len(train.columns)):\n",
    "        column = train.columns[j]\n",
    "        if train[original_column].equals(train[column]):\n",
    "            if original_column not in duplicate_columns:\n",
    "                keep_columns.append(original_column)\n",
    "                duplicate_columns.append(column)\n",
    "\n",
    "cols_to_drop = {\n",
    "    'constant': constant_columns.tolist(),\n",
    "    'duplicate': duplicate_columns\n",
    "}\n",
    "\n",
    "train = train.drop(columns=duplicate_columns, axis=1)\n",
    "\n",
    "prefixes = ['saldo', 'imp', 'delta', 'num', 'ind',]\n",
    "\n",
    "prefix_mapper = {\n",
    "    pref: [\n",
    "        col\n",
    "        for col in train.columns\n",
    "        if col.startswith(pref)\n",
    "    ]\n",
    "    for pref in prefixes\n",
    "}\n",
    "\n",
    "with open('data/cols_to_drop.json', 'w') as f:\n",
    "    json.dump(cols_to_drop, f)\n",
    "\n",
    "with open('data/prefix_mapper.json', 'w') as f:\n",
    "    json.dump(prefix_mapper, f)"
   ]
  }
 ],
 "metadata": {
  "kernelspec": {
   "display_name": "env",
   "language": "python",
   "name": "python3"
  },
  "language_info": {
   "codemirror_mode": {
    "name": "ipython",
    "version": 3
   },
   "file_extension": ".py",
   "mimetype": "text/x-python",
   "name": "python",
   "nbconvert_exporter": "python",
   "pygments_lexer": "ipython3",
   "version": "3.10.12"
  }
 },
 "nbformat": 4,
 "nbformat_minor": 2
}
