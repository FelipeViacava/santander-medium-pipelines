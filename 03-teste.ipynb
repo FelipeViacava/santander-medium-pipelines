{
 "cells": [
  {
   "cell_type": "code",
   "execution_count": 1,
   "metadata": {},
   "outputs": [],
   "source": [
    "import pandas as pd\n",
    "import pickle\n",
    "\n",
    "from sklearn.metrics import accuracy_score, precision_score, recall_score, f1_score"
   ]
  },
  {
   "cell_type": "code",
   "execution_count": 2,
   "metadata": {},
   "outputs": [],
   "source": [
    "with open('models/model.pkl', 'rb') as f:\n",
    "    model = pickle.load(f)\n",
    "\n",
    "test = pd.read_csv('data/test.csv')\n",
    "test['predicted'] = model.predict(test)"
   ]
  },
  {
   "cell_type": "code",
   "execution_count": 4,
   "metadata": {},
   "outputs": [
    {
     "name": "stdout",
     "output_type": "stream",
     "text": [
      "Accuracy: 0.79\n",
      "Precision: 0.13\n",
      "Recall: 0.73\n",
      "F1: 0.22\n"
     ]
    }
   ],
   "source": [
    "accuracy = accuracy_score(test['TARGET'], test['predicted'])\n",
    "precision = precision_score(test['TARGET'], test['predicted'])\n",
    "recall = recall_score(test['TARGET'], test['predicted'])\n",
    "f1 = f1_score(test['TARGET'], test['predicted'])\n",
    "\n",
    "print(f'Accuracy: {accuracy:.2f}')\n",
    "print(f'Precision: {precision:.2f}')\n",
    "print(f'Recall: {recall:.2f}')\n",
    "print(f'F1: {f1:.2f}')"
   ]
  }
 ],
 "metadata": {
  "kernelspec": {
   "display_name": "env",
   "language": "python",
   "name": "python3"
  },
  "language_info": {
   "codemirror_mode": {
    "name": "ipython",
    "version": 3
   },
   "file_extension": ".py",
   "mimetype": "text/x-python",
   "name": "python",
   "nbconvert_exporter": "python",
   "pygments_lexer": "ipython3",
   "version": "3.10.12"
  }
 },
 "nbformat": 4,
 "nbformat_minor": 2
}
